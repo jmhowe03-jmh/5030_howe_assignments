{
 "cells": [
  {
   "cell_type": "markdown",
   "id": "87b91d83",
   "metadata": {},
   "source": [
    "# Assignment 1\n",
    "### Understanding Uncertainty\n",
    "### Due 9/5"
   ]
  },
  {
   "cell_type": "markdown",
   "id": "380e339f",
   "metadata": {},
   "source": [
    "1. Create a new public repo on Github under your account. Include a readme file.\n",
    "2. Clone it to your machine. Put this file into that repo.\n",
    "3. Use the following function to download the example data for the course:"
   ]
  },
  {
   "cell_type": "code",
   "execution_count": null,
   "id": "2d62b4f6",
   "metadata": {},
   "outputs": [
    {
     "name": "stdout",
     "output_type": "stream",
     "text": [
      "Download file already exists\n",
      "Data directory already exists\n"
     ]
    }
   ],
   "source": [
    "def download_data(force=False):\n",
    "    \"\"\"Download and extract course data from Zenodo.\"\"\"\n",
    "    import urllib.request, zipfile, os\n",
    "    \n",
    "    zip_path = 'data.zip'\n",
    "    data_dir = 'data'\n",
    "    \n",
    "    if not os.path.exists(zip_path) or force:\n",
    "        print(\"Downloading course data\")\n",
    "        urllib.request.urlretrieve(\n",
    "            'https://zenodo.org/records/16954427/files/data.zip?download=1',\n",
    "            zip_path\n",
    "        )\n",
    "        print(\"Download complete\")\n",
    "    else:\n",
    "        print(\"Download file already exists\")\n",
    "        \n",
    "    if not os.path.exists(data_dir) or force:\n",
    "        print(\"Extracting data files...\")\n",
    "        with zipfile.ZipFile(zip_path, 'r') as zip_ref:\n",
    "            zip_ref.extractall(data_dir)\n",
    "        print(\"Data extracted\")\n",
    "    else:\n",
    "        print(\"Data directory already exists\")\n",
    "\n",
    "download_data()"
   ]
  },
  {
   "cell_type": "code",
   "execution_count": 3,
   "id": "219d4967",
   "metadata": {},
   "outputs": [],
   "source": [
    "import pandas as pd\n",
    "import numpy as np"
   ]
  },
  {
   "cell_type": "markdown",
   "id": "01db0045",
   "metadata": {},
   "source": [
    "4. Open one of the datasets using Pandas:\n",
    "    1. `ames_prices.csv`: Housing characteristics and prices\n",
    "    2. `college_completion.csv`: Public, nonprofit, and for-profit educational institutions, graduation rates, and financial aid\n",
    "    3. `ForeignGifts_edu.csv`: Monetary and in-kind transfers from foreign entities to U.S. educational institutions\n",
    "    4. `iowa.csv`: Liquor sales in Iowa, at the transaction level\n",
    "    5. `metabric.csv`: Cancer patient and outcome data\n",
    "    6. `mn_police_use_of_force.csv`: Records of physical altercations between Minnessota police and private citizens\n",
    "    7. `nhanes_data_17_18.csv`: National Health and Nutrition Examination Survey\n",
    "    8. `tuna.csv`: Yellowfin Tuna Genome (I don't recommend this one; it's just a sequence of G, C, A, T )\n",
    "    9. `va_procurement.csv`: Public spending by the state of Virginia"
   ]
  },
  {
   "cell_type": "code",
   "execution_count": 16,
   "id": "26531772",
   "metadata": {},
   "outputs": [],
   "source": [
    "college_comp = pd.read_csv(r'C:\\Users\\Jillian Howe\\Downloads\\git_practice\\gitpractice\\data\\college_completion.csv')"
   ]
  },
  {
   "cell_type": "markdown",
   "id": "fa5cade1",
   "metadata": {},
   "source": [
    "5. Pick two or three variables and briefly analyze them\n",
    "    - Is it a categorical or numeric variable?\n",
    "    - How many missing values are there? (`df['var'].isna()` and `np.sum()`)\n",
    "    - If categorical, tabulate the values (`df['var'].value_counts()`) and if numeric, get a summary (`df['var'].describe()`)"
   ]
  },
  {
   "cell_type": "code",
   "execution_count": 20,
   "id": "fc1380fd",
   "metadata": {},
   "outputs": [
    {
     "data": {
      "text/html": [
       "<div>\n",
       "<style scoped>\n",
       "    .dataframe tbody tr th:only-of-type {\n",
       "        vertical-align: middle;\n",
       "    }\n",
       "\n",
       "    .dataframe tbody tr th {\n",
       "        vertical-align: top;\n",
       "    }\n",
       "\n",
       "    .dataframe thead th {\n",
       "        text-align: right;\n",
       "    }\n",
       "</style>\n",
       "<table border=\"1\" class=\"dataframe\">\n",
       "  <thead>\n",
       "    <tr style=\"text-align: right;\">\n",
       "      <th></th>\n",
       "      <th>0</th>\n",
       "      <th>1</th>\n",
       "      <th>2</th>\n",
       "    </tr>\n",
       "  </thead>\n",
       "  <tbody>\n",
       "    <tr>\n",
       "      <th>index</th>\n",
       "      <td>0</td>\n",
       "      <td>1</td>\n",
       "      <td>2</td>\n",
       "    </tr>\n",
       "    <tr>\n",
       "      <th>unitid</th>\n",
       "      <td>100654</td>\n",
       "      <td>100663</td>\n",
       "      <td>100690</td>\n",
       "    </tr>\n",
       "    <tr>\n",
       "      <th>chronname</th>\n",
       "      <td>Alabama A&amp;M University</td>\n",
       "      <td>University of Alabama at Birmingham</td>\n",
       "      <td>Amridge University</td>\n",
       "    </tr>\n",
       "    <tr>\n",
       "      <th>city</th>\n",
       "      <td>Normal</td>\n",
       "      <td>Birmingham</td>\n",
       "      <td>Montgomery</td>\n",
       "    </tr>\n",
       "    <tr>\n",
       "      <th>state</th>\n",
       "      <td>Alabama</td>\n",
       "      <td>Alabama</td>\n",
       "      <td>Alabama</td>\n",
       "    </tr>\n",
       "    <tr>\n",
       "      <th>...</th>\n",
       "      <td>...</td>\n",
       "      <td>...</td>\n",
       "      <td>...</td>\n",
       "    </tr>\n",
       "    <tr>\n",
       "      <th>state_sector_ct</th>\n",
       "      <td>13</td>\n",
       "      <td>13</td>\n",
       "      <td>16</td>\n",
       "    </tr>\n",
       "    <tr>\n",
       "      <th>carnegie_ct</th>\n",
       "      <td>386</td>\n",
       "      <td>106</td>\n",
       "      <td>252</td>\n",
       "    </tr>\n",
       "    <tr>\n",
       "      <th>counted_pct</th>\n",
       "      <td>99.7|07</td>\n",
       "      <td>56.0|07</td>\n",
       "      <td>100.0|07</td>\n",
       "    </tr>\n",
       "    <tr>\n",
       "      <th>nicknames</th>\n",
       "      <td>NaN</td>\n",
       "      <td>UAB</td>\n",
       "      <td>NaN</td>\n",
       "    </tr>\n",
       "    <tr>\n",
       "      <th>cohort_size</th>\n",
       "      <td>882.0</td>\n",
       "      <td>1376.0</td>\n",
       "      <td>3.0</td>\n",
       "    </tr>\n",
       "  </tbody>\n",
       "</table>\n",
       "<p>63 rows × 3 columns</p>\n",
       "</div>"
      ],
      "text/plain": [
       "                                      0                                    1  \\\n",
       "index                                 0                                    1   \n",
       "unitid                           100654                               100663   \n",
       "chronname        Alabama A&M University  University of Alabama at Birmingham   \n",
       "city                             Normal                           Birmingham   \n",
       "state                           Alabama                              Alabama   \n",
       "...                                 ...                                  ...   \n",
       "state_sector_ct                      13                                   13   \n",
       "carnegie_ct                         386                                  106   \n",
       "counted_pct                     99.7|07                              56.0|07   \n",
       "nicknames                           NaN                                  UAB   \n",
       "cohort_size                       882.0                               1376.0   \n",
       "\n",
       "                                  2  \n",
       "index                             2  \n",
       "unitid                       100690  \n",
       "chronname        Amridge University  \n",
       "city                     Montgomery  \n",
       "state                       Alabama  \n",
       "...                             ...  \n",
       "state_sector_ct                  16  \n",
       "carnegie_ct                     252  \n",
       "counted_pct                100.0|07  \n",
       "nicknames                       NaN  \n",
       "cohort_size                     3.0  \n",
       "\n",
       "[63 rows x 3 columns]"
      ]
     },
     "execution_count": 20,
     "metadata": {},
     "output_type": "execute_result"
    }
   ],
   "source": [
    "college_comp.head(3).T"
   ]
  },
  {
   "cell_type": "code",
   "execution_count": 19,
   "id": "3c403351",
   "metadata": {},
   "outputs": [
    {
     "name": "stdout",
     "output_type": "stream",
     "text": [
      "<class 'pandas.core.frame.DataFrame'>\n",
      "RangeIndex: 3798 entries, 0 to 3797\n",
      "Data columns (total 63 columns):\n",
      " #   Column                                Non-Null Count  Dtype  \n",
      "---  ------                                --------------  -----  \n",
      " 0   index                                 3798 non-null   int64  \n",
      " 1   unitid                                3798 non-null   int64  \n",
      " 2   chronname                             3798 non-null   object \n",
      " 3   city                                  3798 non-null   object \n",
      " 4   state                                 3798 non-null   object \n",
      " 5   level                                 3798 non-null   object \n",
      " 6   control                               3798 non-null   object \n",
      " 7   basic                                 3798 non-null   object \n",
      " 8   hbcu                                  94 non-null     object \n",
      " 9   flagship                              50 non-null     object \n",
      " 10  long_x                                3798 non-null   float64\n",
      " 11  lat_y                                 3798 non-null   float64\n",
      " 12  site                                  3779 non-null   object \n",
      " 13  student_count                         3798 non-null   int64  \n",
      " 14  awards_per_value                      3798 non-null   float64\n",
      " 15  awards_per_state_value                3798 non-null   float64\n",
      " 16  awards_per_natl_value                 3798 non-null   float64\n",
      " 17  exp_award_value                       3798 non-null   int64  \n",
      " 18  exp_award_state_value                 3798 non-null   int64  \n",
      " 19  exp_award_natl_value                  3798 non-null   int64  \n",
      " 20  exp_award_percentile                  3798 non-null   int64  \n",
      " 21  ft_pct                                3794 non-null   float64\n",
      " 22  fte_value                             3798 non-null   int64  \n",
      " 23  fte_percentile                        3798 non-null   int64  \n",
      " 24  med_sat_value                         1337 non-null   float64\n",
      " 25  med_sat_percentile                    1337 non-null   float64\n",
      " 26  aid_value                             3797 non-null   float64\n",
      " 27  aid_percentile                        3797 non-null   float64\n",
      " 28  endow_value                           2323 non-null   float64\n",
      " 29  endow_percentile                      2323 non-null   float64\n",
      " 30  grad_100_value                        3467 non-null   float64\n",
      " 31  grad_100_percentile                   3467 non-null   float64\n",
      " 32  grad_150_value                        3467 non-null   float64\n",
      " 33  grad_150_percentile                   3467 non-null   float64\n",
      " 34  pell_value                            3797 non-null   float64\n",
      " 35  pell_percentile                       3797 non-null   float64\n",
      " 36  retain_value                          3535 non-null   float64\n",
      " 37  retain_percentile                     3535 non-null   float64\n",
      " 38  ft_fac_value                          3785 non-null   float64\n",
      " 39  ft_fac_percentile                     3785 non-null   float64\n",
      " 40  vsa_year                              279 non-null    float64\n",
      " 41  vsa_grad_after4_first                 279 non-null    float64\n",
      " 42  vsa_grad_elsewhere_after4_first       279 non-null    float64\n",
      " 43  vsa_enroll_after4_first               279 non-null    float64\n",
      " 44  vsa_enroll_elsewhere_after4_first     279 non-null    float64\n",
      " 45  vsa_grad_after6_first                 279 non-null    float64\n",
      " 46  vsa_grad_elsewhere_after6_first       279 non-null    float64\n",
      " 47  vsa_enroll_after6_first               279 non-null    float64\n",
      " 48  vsa_enroll_elsewhere_after6_first     279 non-null    float64\n",
      " 49  vsa_grad_after4_transfer              270 non-null    float64\n",
      " 50  vsa_grad_elsewhere_after4_transfer    270 non-null    float64\n",
      " 51  vsa_enroll_after4_transfer            270 non-null    float64\n",
      " 52  vsa_enroll_elsewhere_after4_transfer  270 non-null    float64\n",
      " 53  vsa_grad_after6_transfer              270 non-null    float64\n",
      " 54  vsa_grad_elsewhere_after6_transfer    270 non-null    float64\n",
      " 55  vsa_enroll_after6_transfer            270 non-null    float64\n",
      " 56  vsa_enroll_elsewhere_after6_transfer  270 non-null    float64\n",
      " 57  similar                               3579 non-null   object \n",
      " 58  state_sector_ct                       3798 non-null   int64  \n",
      " 59  carnegie_ct                           3798 non-null   int64  \n",
      " 60  counted_pct                           3372 non-null   object \n",
      " 61  nicknames                             310 non-null    object \n",
      " 62  cohort_size                           3467 non-null   float64\n",
      "dtypes: float64(40), int64(11), object(12)\n",
      "memory usage: 1.8+ MB\n"
     ]
    }
   ],
   "source": [
    "college_comp.info()"
   ]
  },
  {
   "cell_type": "code",
   "execution_count": 22,
   "id": "d0c0dbb3",
   "metadata": {},
   "outputs": [
    {
     "data": {
      "text/plain": [
       "Index(['index', 'unitid', 'chronname', 'city', 'state', 'level', 'control',\n",
       "       'basic', 'hbcu', 'flagship', 'long_x', 'lat_y', 'site', 'student_count',\n",
       "       'awards_per_value', 'awards_per_state_value', 'awards_per_natl_value',\n",
       "       'exp_award_value', 'exp_award_state_value', 'exp_award_natl_value',\n",
       "       'exp_award_percentile', 'ft_pct', 'fte_value', 'fte_percentile',\n",
       "       'med_sat_value', 'med_sat_percentile', 'aid_value', 'aid_percentile',\n",
       "       'endow_value', 'endow_percentile', 'grad_100_value',\n",
       "       'grad_100_percentile', 'grad_150_value', 'grad_150_percentile',\n",
       "       'pell_value', 'pell_percentile', 'retain_value', 'retain_percentile',\n",
       "       'ft_fac_value', 'ft_fac_percentile', 'vsa_year',\n",
       "       'vsa_grad_after4_first', 'vsa_grad_elsewhere_after4_first',\n",
       "       'vsa_enroll_after4_first', 'vsa_enroll_elsewhere_after4_first',\n",
       "       'vsa_grad_after6_first', 'vsa_grad_elsewhere_after6_first',\n",
       "       'vsa_enroll_after6_first', 'vsa_enroll_elsewhere_after6_first',\n",
       "       'vsa_grad_after4_transfer', 'vsa_grad_elsewhere_after4_transfer',\n",
       "       'vsa_enroll_after4_transfer', 'vsa_enroll_elsewhere_after4_transfer',\n",
       "       'vsa_grad_after6_transfer', 'vsa_grad_elsewhere_after6_transfer',\n",
       "       'vsa_enroll_after6_transfer', 'vsa_enroll_elsewhere_after6_transfer',\n",
       "       'similar', 'state_sector_ct', 'carnegie_ct', 'counted_pct', 'nicknames',\n",
       "       'cohort_size'],\n",
       "      dtype='object')"
      ]
     },
     "execution_count": 22,
     "metadata": {},
     "output_type": "execute_result"
    }
   ],
   "source": [
    "college_comp.columns"
   ]
  },
  {
   "cell_type": "code",
   "execution_count": 29,
   "id": "1fe86035",
   "metadata": {},
   "outputs": [
    {
     "data": {
      "text/plain": [
       "count     310\n",
       "unique    274\n",
       "top       NSU\n",
       "freq        5\n",
       "Name: nicknames, dtype: object"
      ]
     },
     "execution_count": 29,
     "metadata": {},
     "output_type": "execute_result"
    }
   ],
   "source": [
    "college_comp[\"nicknames\"].describe()"
   ]
  },
  {
   "cell_type": "code",
   "execution_count": 28,
   "id": "fe8053c9",
   "metadata": {},
   "outputs": [
    {
     "data": {
      "text/html": [
       "<div>\n",
       "<style scoped>\n",
       "    .dataframe tbody tr th:only-of-type {\n",
       "        vertical-align: middle;\n",
       "    }\n",
       "\n",
       "    .dataframe tbody tr th {\n",
       "        vertical-align: top;\n",
       "    }\n",
       "\n",
       "    .dataframe thead th {\n",
       "        text-align: right;\n",
       "    }\n",
       "</style>\n",
       "<table border=\"1\" class=\"dataframe\">\n",
       "  <thead>\n",
       "    <tr style=\"text-align: right;\">\n",
       "      <th></th>\n",
       "      <th>nicknames</th>\n",
       "    </tr>\n",
       "  </thead>\n",
       "  <tbody>\n",
       "    <tr>\n",
       "      <th>0</th>\n",
       "      <td>NaN</td>\n",
       "    </tr>\n",
       "    <tr>\n",
       "      <th>1</th>\n",
       "      <td>UAB</td>\n",
       "    </tr>\n",
       "    <tr>\n",
       "      <th>2</th>\n",
       "      <td>NaN</td>\n",
       "    </tr>\n",
       "    <tr>\n",
       "      <th>3</th>\n",
       "      <td>UAH</td>\n",
       "    </tr>\n",
       "    <tr>\n",
       "      <th>4</th>\n",
       "      <td>ASU</td>\n",
       "    </tr>\n",
       "    <tr>\n",
       "      <th>...</th>\n",
       "      <td>...</td>\n",
       "    </tr>\n",
       "    <tr>\n",
       "      <th>3793</th>\n",
       "      <td>NaN</td>\n",
       "    </tr>\n",
       "    <tr>\n",
       "      <th>3794</th>\n",
       "      <td>NaN</td>\n",
       "    </tr>\n",
       "    <tr>\n",
       "      <th>3795</th>\n",
       "      <td>NaN</td>\n",
       "    </tr>\n",
       "    <tr>\n",
       "      <th>3796</th>\n",
       "      <td>NaN</td>\n",
       "    </tr>\n",
       "    <tr>\n",
       "      <th>3797</th>\n",
       "      <td>NaN</td>\n",
       "    </tr>\n",
       "  </tbody>\n",
       "</table>\n",
       "<p>3798 rows × 1 columns</p>\n",
       "</div>"
      ],
      "text/plain": [
       "     nicknames\n",
       "0          NaN\n",
       "1          UAB\n",
       "2          NaN\n",
       "3          UAH\n",
       "4          ASU\n",
       "...        ...\n",
       "3793       NaN\n",
       "3794       NaN\n",
       "3795       NaN\n",
       "3796       NaN\n",
       "3797       NaN\n",
       "\n",
       "[3798 rows x 1 columns]"
      ]
     },
     "execution_count": 28,
     "metadata": {},
     "output_type": "execute_result"
    }
   ],
   "source": [
    "pd.DataFrame( college_comp['nicknames'])"
   ]
  },
  {
   "cell_type": "markdown",
   "id": "dbf2318a",
   "metadata": {},
   "source": [
    "6. What are some questions and prediction tools you could create using these data? Who would the stakeholder be for that prediction tool? What practical or ethical questions would it create? What other data would you want, that are not available in your data?"
   ]
  },
  {
   "cell_type": "markdown",
   "id": "a4a7ddc7",
   "metadata": {},
   "source": [
    "7. Commit your work to the repo (`git commit -am 'Finish assignment'` at the command line, or use the Git panel in VS Code). Push your work back to Github and submit the link on Canvas in the assignment tab."
   ]
  }
 ],
 "metadata": {
  "kernelspec": {
   "display_name": "understanding_uncertainty",
   "language": "python",
   "name": "python3"
  },
  "language_info": {
   "codemirror_mode": {
    "name": "ipython",
    "version": 3
   },
   "file_extension": ".py",
   "mimetype": "text/x-python",
   "name": "python",
   "nbconvert_exporter": "python",
   "pygments_lexer": "ipython3",
   "version": "3.13.5"
  }
 },
 "nbformat": 4,
 "nbformat_minor": 5
}
