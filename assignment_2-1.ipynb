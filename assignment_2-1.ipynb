{
 "cells": [
  {
   "cell_type": "markdown",
   "id": "87b91d83",
   "metadata": {},
   "source": [
    "# Assignment 2\n",
    "### Understanding Uncertainty\n",
    "### Due 9/12"
   ]
  },
  {
   "cell_type": "markdown",
   "id": "380e339f",
   "metadata": {},
   "source": [
    "1. 'State Bottle Retail' is the price at which the bottle is sold, while 'State Bottle Cost' is the price the state pays for a bottle.\n",
    "- How do you define the most profitable item? Why? Explain your thinking.\n",
    "    There are many different ways to define the profitability of an item. You can think of it in terms of how many of that item are sold, the price revenue, the quatity sold per fluid oz of the drink (for example comparing a 2 ox shooter may be difference from a keg of beer). In my analysis I will look into the most profitable liqours in Iowa based on amount of gross revenue.\n",
    "- Use `.groupby` calculations to determine the most profitable liquors sold in Iowa.\n",
    "- Make a plot of the top liquors."
   ]
  },
  {
   "cell_type": "code",
   "execution_count": 21,
   "id": "56e2ba4b",
   "metadata": {},
   "outputs": [
    {
     "data": {
      "text/plain": [
       "'C:\\\\Users\\\\Jillian Howe\\\\Documents\\\\UVA_MSDS\\\\understanding_uncertainty\\\\data'"
      ]
     },
     "execution_count": 21,
     "metadata": {},
     "output_type": "execute_result"
    }
   ],
   "source": [
    "import pandas as pd\n",
    "import os\n",
    "path = os.getcwd()\n",
    "path # = \\\\ in downloads\n",
    "os.chdir(r\"C:\\Users\\Jillian Howe\\Documents\\UVA_MSDS\\understanding_uncertainty\\data\")\n",
    "path2 = os.getcwd()\n",
    "path2"
   ]
  },
  {
   "cell_type": "code",
   "execution_count": 35,
   "id": "03c15c9b",
   "metadata": {},
   "outputs": [],
   "source": [
    "import seaborn as sns\n",
    "import matplotlib.pyplot as plt\n",
    "import plotly.express as px\n",
    "import matplotlib.pyplot as plt"
   ]
  },
  {
   "cell_type": "markdown",
   "id": "b9af4d5c",
   "metadata": {},
   "source": [
    "data exploration and figuring out what I wanna do"
   ]
  },
  {
   "cell_type": "code",
   "execution_count": 2,
   "id": "1a89772b",
   "metadata": {},
   "outputs": [
    {
     "data": {
      "text/html": [
       "<div>\n",
       "<style scoped>\n",
       "    .dataframe tbody tr th:only-of-type {\n",
       "        vertical-align: middle;\n",
       "    }\n",
       "\n",
       "    .dataframe tbody tr th {\n",
       "        vertical-align: top;\n",
       "    }\n",
       "\n",
       "    .dataframe thead th {\n",
       "        text-align: right;\n",
       "    }\n",
       "</style>\n",
       "<table border=\"1\" class=\"dataframe\">\n",
       "  <thead>\n",
       "    <tr style=\"text-align: right;\">\n",
       "      <th></th>\n",
       "      <th>Invoice/Item Number</th>\n",
       "      <th>Date</th>\n",
       "      <th>Store Number</th>\n",
       "      <th>Store Name</th>\n",
       "      <th>Zip Code</th>\n",
       "      <th>Category Name</th>\n",
       "      <th>Vendor Name</th>\n",
       "      <th>Item Number</th>\n",
       "      <th>Item Description</th>\n",
       "      <th>Bottle Volume (ml)</th>\n",
       "      <th>State Bottle Cost</th>\n",
       "      <th>State Bottle Retail</th>\n",
       "      <th>Bottles Sold</th>\n",
       "      <th>Sale (Dollars)</th>\n",
       "    </tr>\n",
       "  </thead>\n",
       "  <tbody>\n",
       "    <tr>\n",
       "      <th>0</th>\n",
       "      <td>INV-59108400026</td>\n",
       "      <td>06/06/2023</td>\n",
       "      <td>3723</td>\n",
       "      <td>J D SPIRITS LIQUOR</td>\n",
       "      <td>51040</td>\n",
       "      <td>STRAIGHT RYE WHISKIES</td>\n",
       "      <td>INFINIUM SPIRITS</td>\n",
       "      <td>27102</td>\n",
       "      <td>TEMPLETON RYE 4YR</td>\n",
       "      <td>750</td>\n",
       "      <td>18.09</td>\n",
       "      <td>27.14</td>\n",
       "      <td>2</td>\n",
       "      <td>54.28</td>\n",
       "    </tr>\n",
       "    <tr>\n",
       "      <th>1</th>\n",
       "      <td>S16879800057</td>\n",
       "      <td>01/16/2014</td>\n",
       "      <td>3926</td>\n",
       "      <td>LIQUOR DOWNTOWN / IOWA CITY</td>\n",
       "      <td>52240</td>\n",
       "      <td>VODKA 80 PROOF</td>\n",
       "      <td>HEAVEN HILL BRANDS</td>\n",
       "      <td>35416</td>\n",
       "      <td>BURNETT'S VODKA 80 PRF</td>\n",
       "      <td>750</td>\n",
       "      <td>4.84</td>\n",
       "      <td>7.26</td>\n",
       "      <td>12</td>\n",
       "      <td>87.12</td>\n",
       "    </tr>\n",
       "    <tr>\n",
       "      <th>2</th>\n",
       "      <td>INV-05301100019</td>\n",
       "      <td>06/05/2017</td>\n",
       "      <td>3829</td>\n",
       "      <td>GARY'S FOODS / MT VERNON</td>\n",
       "      <td>52314</td>\n",
       "      <td>CANADIAN WHISKIES</td>\n",
       "      <td>DIAGEO AMERICAS</td>\n",
       "      <td>11296</td>\n",
       "      <td>CROWN ROYAL</td>\n",
       "      <td>750</td>\n",
       "      <td>15.59</td>\n",
       "      <td>23.39</td>\n",
       "      <td>6</td>\n",
       "      <td>135.66</td>\n",
       "    </tr>\n",
       "    <tr>\n",
       "      <th>3</th>\n",
       "      <td>INV-40973500083</td>\n",
       "      <td>10/14/2021</td>\n",
       "      <td>5102</td>\n",
       "      <td>WILKIE LIQUORS</td>\n",
       "      <td>52314</td>\n",
       "      <td>AMERICAN SCHNAPPS</td>\n",
       "      <td>JIM BEAM BRANDS</td>\n",
       "      <td>82787</td>\n",
       "      <td>DEKUYPER BUTTERSHOTS</td>\n",
       "      <td>1000</td>\n",
       "      <td>7.87</td>\n",
       "      <td>11.81</td>\n",
       "      <td>12</td>\n",
       "      <td>141.72</td>\n",
       "    </tr>\n",
       "    <tr>\n",
       "      <th>4</th>\n",
       "      <td>INV-17022500013</td>\n",
       "      <td>01/18/2019</td>\n",
       "      <td>2560</td>\n",
       "      <td>HY-VEE FOOD STORE / MARION</td>\n",
       "      <td>52302</td>\n",
       "      <td>WHISKEY LIQUEUR</td>\n",
       "      <td>SAZERAC COMPANY  INC</td>\n",
       "      <td>64863</td>\n",
       "      <td>FIREBALL CINNAMON WHISKEY</td>\n",
       "      <td>200</td>\n",
       "      <td>2.50</td>\n",
       "      <td>3.75</td>\n",
       "      <td>12</td>\n",
       "      <td>45.00</td>\n",
       "    </tr>\n",
       "  </tbody>\n",
       "</table>\n",
       "</div>"
      ],
      "text/plain": [
       "  Invoice/Item Number        Date  Store Number                   Store Name  \\\n",
       "0     INV-59108400026  06/06/2023          3723           J D SPIRITS LIQUOR   \n",
       "1        S16879800057  01/16/2014          3926  LIQUOR DOWNTOWN / IOWA CITY   \n",
       "2     INV-05301100019  06/05/2017          3829     GARY'S FOODS / MT VERNON   \n",
       "3     INV-40973500083  10/14/2021          5102               WILKIE LIQUORS   \n",
       "4     INV-17022500013  01/18/2019          2560   HY-VEE FOOD STORE / MARION   \n",
       "\n",
       "  Zip Code          Category Name           Vendor Name  Item Number  \\\n",
       "0    51040  STRAIGHT RYE WHISKIES      INFINIUM SPIRITS        27102   \n",
       "1    52240         VODKA 80 PROOF    HEAVEN HILL BRANDS        35416   \n",
       "2    52314      CANADIAN WHISKIES       DIAGEO AMERICAS        11296   \n",
       "3    52314      AMERICAN SCHNAPPS       JIM BEAM BRANDS        82787   \n",
       "4    52302        WHISKEY LIQUEUR  SAZERAC COMPANY  INC        64863   \n",
       "\n",
       "            Item Description  Bottle Volume (ml)  State Bottle Cost  \\\n",
       "0          TEMPLETON RYE 4YR                 750              18.09   \n",
       "1     BURNETT'S VODKA 80 PRF                 750               4.84   \n",
       "2                CROWN ROYAL                 750              15.59   \n",
       "3       DEKUYPER BUTTERSHOTS                1000               7.87   \n",
       "4  FIREBALL CINNAMON WHISKEY                 200               2.50   \n",
       "\n",
       "   State Bottle Retail  Bottles Sold  Sale (Dollars)  \n",
       "0                27.14             2           54.28  \n",
       "1                 7.26            12           87.12  \n",
       "2                23.39             6          135.66  \n",
       "3                11.81            12          141.72  \n",
       "4                 3.75            12           45.00  "
      ]
     },
     "execution_count": 2,
     "metadata": {},
     "output_type": "execute_result"
    }
   ],
   "source": [
    "iowa = pd.read_csv('iowa.csv')\n",
    "iowa.head()"
   ]
  },
  {
   "cell_type": "code",
   "execution_count": 3,
   "id": "3f7fde14",
   "metadata": {},
   "outputs": [
    {
     "data": {
      "text/html": [
       "<div>\n",
       "<style scoped>\n",
       "    .dataframe tbody tr th:only-of-type {\n",
       "        vertical-align: middle;\n",
       "    }\n",
       "\n",
       "    .dataframe tbody tr th {\n",
       "        vertical-align: top;\n",
       "    }\n",
       "\n",
       "    .dataframe thead th {\n",
       "        text-align: right;\n",
       "    }\n",
       "</style>\n",
       "<table border=\"1\" class=\"dataframe\">\n",
       "  <thead>\n",
       "    <tr style=\"text-align: right;\">\n",
       "      <th></th>\n",
       "      <th>Invoice/Item Number</th>\n",
       "      <th>Date</th>\n",
       "      <th>Store Number</th>\n",
       "      <th>Store Name</th>\n",
       "      <th>Zip Code</th>\n",
       "      <th>Category Name</th>\n",
       "      <th>Vendor Name</th>\n",
       "      <th>Item Number</th>\n",
       "      <th>Item Description</th>\n",
       "      <th>Bottle Volume (ml)</th>\n",
       "      <th>State Bottle Cost</th>\n",
       "      <th>State Bottle Retail</th>\n",
       "      <th>Bottles Sold</th>\n",
       "      <th>Sale (Dollars)</th>\n",
       "      <th>Sales Diff</th>\n",
       "    </tr>\n",
       "  </thead>\n",
       "  <tbody>\n",
       "    <tr>\n",
       "      <th>0</th>\n",
       "      <td>INV-59108400026</td>\n",
       "      <td>06/06/2023</td>\n",
       "      <td>3723</td>\n",
       "      <td>J D SPIRITS LIQUOR</td>\n",
       "      <td>51040</td>\n",
       "      <td>STRAIGHT RYE WHISKIES</td>\n",
       "      <td>INFINIUM SPIRITS</td>\n",
       "      <td>27102</td>\n",
       "      <td>TEMPLETON RYE 4YR</td>\n",
       "      <td>750</td>\n",
       "      <td>18.09</td>\n",
       "      <td>27.14</td>\n",
       "      <td>2</td>\n",
       "      <td>54.28</td>\n",
       "      <td>9.05</td>\n",
       "    </tr>\n",
       "    <tr>\n",
       "      <th>1</th>\n",
       "      <td>S16879800057</td>\n",
       "      <td>01/16/2014</td>\n",
       "      <td>3926</td>\n",
       "      <td>LIQUOR DOWNTOWN / IOWA CITY</td>\n",
       "      <td>52240</td>\n",
       "      <td>VODKA 80 PROOF</td>\n",
       "      <td>HEAVEN HILL BRANDS</td>\n",
       "      <td>35416</td>\n",
       "      <td>BURNETT'S VODKA 80 PRF</td>\n",
       "      <td>750</td>\n",
       "      <td>4.84</td>\n",
       "      <td>7.26</td>\n",
       "      <td>12</td>\n",
       "      <td>87.12</td>\n",
       "      <td>2.42</td>\n",
       "    </tr>\n",
       "    <tr>\n",
       "      <th>2</th>\n",
       "      <td>INV-05301100019</td>\n",
       "      <td>06/05/2017</td>\n",
       "      <td>3829</td>\n",
       "      <td>GARY'S FOODS / MT VERNON</td>\n",
       "      <td>52314</td>\n",
       "      <td>CANADIAN WHISKIES</td>\n",
       "      <td>DIAGEO AMERICAS</td>\n",
       "      <td>11296</td>\n",
       "      <td>CROWN ROYAL</td>\n",
       "      <td>750</td>\n",
       "      <td>15.59</td>\n",
       "      <td>23.39</td>\n",
       "      <td>6</td>\n",
       "      <td>135.66</td>\n",
       "      <td>7.80</td>\n",
       "    </tr>\n",
       "    <tr>\n",
       "      <th>3</th>\n",
       "      <td>INV-40973500083</td>\n",
       "      <td>10/14/2021</td>\n",
       "      <td>5102</td>\n",
       "      <td>WILKIE LIQUORS</td>\n",
       "      <td>52314</td>\n",
       "      <td>AMERICAN SCHNAPPS</td>\n",
       "      <td>JIM BEAM BRANDS</td>\n",
       "      <td>82787</td>\n",
       "      <td>DEKUYPER BUTTERSHOTS</td>\n",
       "      <td>1000</td>\n",
       "      <td>7.87</td>\n",
       "      <td>11.81</td>\n",
       "      <td>12</td>\n",
       "      <td>141.72</td>\n",
       "      <td>3.94</td>\n",
       "    </tr>\n",
       "    <tr>\n",
       "      <th>4</th>\n",
       "      <td>INV-17022500013</td>\n",
       "      <td>01/18/2019</td>\n",
       "      <td>2560</td>\n",
       "      <td>HY-VEE FOOD STORE / MARION</td>\n",
       "      <td>52302</td>\n",
       "      <td>WHISKEY LIQUEUR</td>\n",
       "      <td>SAZERAC COMPANY  INC</td>\n",
       "      <td>64863</td>\n",
       "      <td>FIREBALL CINNAMON WHISKEY</td>\n",
       "      <td>200</td>\n",
       "      <td>2.50</td>\n",
       "      <td>3.75</td>\n",
       "      <td>12</td>\n",
       "      <td>45.00</td>\n",
       "      <td>1.25</td>\n",
       "    </tr>\n",
       "  </tbody>\n",
       "</table>\n",
       "</div>"
      ],
      "text/plain": [
       "  Invoice/Item Number        Date  Store Number                   Store Name  \\\n",
       "0     INV-59108400026  06/06/2023          3723           J D SPIRITS LIQUOR   \n",
       "1        S16879800057  01/16/2014          3926  LIQUOR DOWNTOWN / IOWA CITY   \n",
       "2     INV-05301100019  06/05/2017          3829     GARY'S FOODS / MT VERNON   \n",
       "3     INV-40973500083  10/14/2021          5102               WILKIE LIQUORS   \n",
       "4     INV-17022500013  01/18/2019          2560   HY-VEE FOOD STORE / MARION   \n",
       "\n",
       "  Zip Code          Category Name           Vendor Name  Item Number  \\\n",
       "0    51040  STRAIGHT RYE WHISKIES      INFINIUM SPIRITS        27102   \n",
       "1    52240         VODKA 80 PROOF    HEAVEN HILL BRANDS        35416   \n",
       "2    52314      CANADIAN WHISKIES       DIAGEO AMERICAS        11296   \n",
       "3    52314      AMERICAN SCHNAPPS       JIM BEAM BRANDS        82787   \n",
       "4    52302        WHISKEY LIQUEUR  SAZERAC COMPANY  INC        64863   \n",
       "\n",
       "            Item Description  Bottle Volume (ml)  State Bottle Cost  \\\n",
       "0          TEMPLETON RYE 4YR                 750              18.09   \n",
       "1     BURNETT'S VODKA 80 PRF                 750               4.84   \n",
       "2                CROWN ROYAL                 750              15.59   \n",
       "3       DEKUYPER BUTTERSHOTS                1000               7.87   \n",
       "4  FIREBALL CINNAMON WHISKEY                 200               2.50   \n",
       "\n",
       "   State Bottle Retail  Bottles Sold  Sale (Dollars)  Sales Diff  \n",
       "0                27.14             2           54.28        9.05  \n",
       "1                 7.26            12           87.12        2.42  \n",
       "2                23.39             6          135.66        7.80  \n",
       "3                11.81            12          141.72        3.94  \n",
       "4                 3.75            12           45.00        1.25  "
      ]
     },
     "execution_count": 3,
     "metadata": {},
     "output_type": "execute_result"
    }
   ],
   "source": [
    "iowa[\"Sales Diff\"] = iowa[\"State Bottle Retail\"] - iowa[\"State Bottle Cost\"]\n",
    "iowa.head()"
   ]
  },
  {
   "cell_type": "code",
   "execution_count": 4,
   "id": "a6138ff6",
   "metadata": {},
   "outputs": [
    {
     "data": {
      "text/plain": [
       "(159904, 15)"
      ]
     },
     "execution_count": 4,
     "metadata": {},
     "output_type": "execute_result"
    }
   ],
   "source": [
    "iowa.describe()\n",
    "iowa.shape"
   ]
  },
  {
   "cell_type": "code",
   "execution_count": 5,
   "id": "60d91e70",
   "metadata": {},
   "outputs": [
    {
     "data": {
      "text/plain": [
       "Item Number\n",
       "11788     1561\n",
       "36308     1442\n",
       "64858      970\n",
       "38176      950\n",
       "36904      947\n",
       "          ... \n",
       "988482       1\n",
       "986503       1\n",
       "33303        1\n",
       "66242        1\n",
       "100827       1\n",
       "Name: count, Length: 5621, dtype: int64"
      ]
     },
     "execution_count": 5,
     "metadata": {},
     "output_type": "execute_result"
    }
   ],
   "source": [
    "iowa[\"Item Number\"].nunique()\n",
    "iowa[\"Item Number\"].value_counts()"
   ]
  },
  {
   "cell_type": "code",
   "execution_count": 6,
   "id": "764094a6",
   "metadata": {},
   "outputs": [
    {
     "data": {
      "text/html": [
       "<div>\n",
       "<style scoped>\n",
       "    .dataframe tbody tr th:only-of-type {\n",
       "        vertical-align: middle;\n",
       "    }\n",
       "\n",
       "    .dataframe tbody tr th {\n",
       "        vertical-align: top;\n",
       "    }\n",
       "\n",
       "    .dataframe thead th {\n",
       "        text-align: right;\n",
       "    }\n",
       "</style>\n",
       "<table border=\"1\" class=\"dataframe\">\n",
       "  <thead>\n",
       "    <tr style=\"text-align: right;\">\n",
       "      <th></th>\n",
       "      <th>Invoice/Item Number</th>\n",
       "      <th>Date</th>\n",
       "      <th>Store Number</th>\n",
       "      <th>Store Name</th>\n",
       "      <th>Zip Code</th>\n",
       "      <th>Category Name</th>\n",
       "      <th>Vendor Name</th>\n",
       "      <th>Item Number</th>\n",
       "      <th>Item Description</th>\n",
       "      <th>Bottle Volume (ml)</th>\n",
       "      <th>State Bottle Cost</th>\n",
       "      <th>State Bottle Retail</th>\n",
       "      <th>Bottles Sold</th>\n",
       "      <th>Sale (Dollars)</th>\n",
       "      <th>Sales Diff</th>\n",
       "    </tr>\n",
       "  </thead>\n",
       "  <tbody>\n",
       "    <tr>\n",
       "      <th>20</th>\n",
       "      <td>S28830400006</td>\n",
       "      <td>11/03/2015</td>\n",
       "      <td>4661</td>\n",
       "      <td>QUIK TRIP #531 / GRIMES</td>\n",
       "      <td>50111</td>\n",
       "      <td>CANADIAN WHISKIES</td>\n",
       "      <td>CONSTELLATION WINE COMPANY, INC.</td>\n",
       "      <td>11776</td>\n",
       "      <td>BLACK VELVET</td>\n",
       "      <td>750</td>\n",
       "      <td>5.23</td>\n",
       "      <td>7.85</td>\n",
       "      <td>12</td>\n",
       "      <td>94.20</td>\n",
       "      <td>2.62</td>\n",
       "    </tr>\n",
       "    <tr>\n",
       "      <th>86</th>\n",
       "      <td>INV-29527800015</td>\n",
       "      <td>08/17/2020</td>\n",
       "      <td>4495</td>\n",
       "      <td>CASEY'S GENERAL STORE #3055 / GRUNDY CENTER</td>\n",
       "      <td>50638</td>\n",
       "      <td>CANADIAN WHISKIES</td>\n",
       "      <td>HEAVEN HILL BRANDS</td>\n",
       "      <td>11774</td>\n",
       "      <td>BLACK VELVET</td>\n",
       "      <td>375</td>\n",
       "      <td>3.07</td>\n",
       "      <td>4.61</td>\n",
       "      <td>6</td>\n",
       "      <td>27.66</td>\n",
       "      <td>1.54</td>\n",
       "    </tr>\n",
       "    <tr>\n",
       "      <th>110</th>\n",
       "      <td>S10053200001</td>\n",
       "      <td>01/15/2013</td>\n",
       "      <td>4347</td>\n",
       "      <td>JEFF'S MARKET / BLUE GRASS</td>\n",
       "      <td>52726</td>\n",
       "      <td>CANADIAN WHISKIES</td>\n",
       "      <td>CONSTELLATION WINE COMPANY, INC.</td>\n",
       "      <td>11788</td>\n",
       "      <td>BLACK VELVET</td>\n",
       "      <td>1750</td>\n",
       "      <td>10.45</td>\n",
       "      <td>15.67</td>\n",
       "      <td>6</td>\n",
       "      <td>94.02</td>\n",
       "      <td>5.22</td>\n",
       "    </tr>\n",
       "    <tr>\n",
       "      <th>130</th>\n",
       "      <td>INV-23294500008</td>\n",
       "      <td>11/18/2019</td>\n",
       "      <td>4284</td>\n",
       "      <td>FAREWAY STORES #559 / IOWA FALLS</td>\n",
       "      <td>50126</td>\n",
       "      <td>CANADIAN WHISKIES</td>\n",
       "      <td>HEAVEN HILL BRANDS</td>\n",
       "      <td>11788</td>\n",
       "      <td>BLACK VELVET</td>\n",
       "      <td>1750</td>\n",
       "      <td>10.45</td>\n",
       "      <td>15.68</td>\n",
       "      <td>30</td>\n",
       "      <td>470.40</td>\n",
       "      <td>5.23</td>\n",
       "    </tr>\n",
       "    <tr>\n",
       "      <th>138</th>\n",
       "      <td>S15793600011</td>\n",
       "      <td>11/19/2013</td>\n",
       "      <td>4239</td>\n",
       "      <td>FAREWAY STORES #850 / SPIRIT LAKE</td>\n",
       "      <td>51360</td>\n",
       "      <td>CANADIAN WHISKIES</td>\n",
       "      <td>CONSTELLATION WINE COMPANY, INC.</td>\n",
       "      <td>11776</td>\n",
       "      <td>BLACK VELVET</td>\n",
       "      <td>750</td>\n",
       "      <td>4.83</td>\n",
       "      <td>7.44</td>\n",
       "      <td>12</td>\n",
       "      <td>89.28</td>\n",
       "      <td>2.61</td>\n",
       "    </tr>\n",
       "    <tr>\n",
       "      <th>...</th>\n",
       "      <td>...</td>\n",
       "      <td>...</td>\n",
       "      <td>...</td>\n",
       "      <td>...</td>\n",
       "      <td>...</td>\n",
       "      <td>...</td>\n",
       "      <td>...</td>\n",
       "      <td>...</td>\n",
       "      <td>...</td>\n",
       "      <td>...</td>\n",
       "      <td>...</td>\n",
       "      <td>...</td>\n",
       "      <td>...</td>\n",
       "      <td>...</td>\n",
       "      <td>...</td>\n",
       "    </tr>\n",
       "    <tr>\n",
       "      <th>159648</th>\n",
       "      <td>INV-06127300001</td>\n",
       "      <td>07/17/2017</td>\n",
       "      <td>4256</td>\n",
       "      <td>FAREWAY STORES #912 / SIOUX CENTER</td>\n",
       "      <td>51250</td>\n",
       "      <td>CANADIAN WHISKIES</td>\n",
       "      <td>CONSTELLATION BRANDS INC</td>\n",
       "      <td>11788</td>\n",
       "      <td>BLACK VELVET</td>\n",
       "      <td>1750</td>\n",
       "      <td>10.45</td>\n",
       "      <td>15.68</td>\n",
       "      <td>552</td>\n",
       "      <td>8655.36</td>\n",
       "      <td>5.23</td>\n",
       "    </tr>\n",
       "    <tr>\n",
       "      <th>159686</th>\n",
       "      <td>INV-13480400158</td>\n",
       "      <td>07/26/2018</td>\n",
       "      <td>2648</td>\n",
       "      <td>HY-VEE #4 / WDM</td>\n",
       "      <td>50265</td>\n",
       "      <td>CANADIAN WHISKIES</td>\n",
       "      <td>CONSTELLATION BRANDS INC</td>\n",
       "      <td>11788</td>\n",
       "      <td>BLACK VELVET</td>\n",
       "      <td>1750</td>\n",
       "      <td>10.45</td>\n",
       "      <td>15.68</td>\n",
       "      <td>30</td>\n",
       "      <td>470.40</td>\n",
       "      <td>5.23</td>\n",
       "    </tr>\n",
       "    <tr>\n",
       "      <th>159752</th>\n",
       "      <td>INV-74731200003</td>\n",
       "      <td>09/27/2024</td>\n",
       "      <td>2607</td>\n",
       "      <td>HY-VEE WINE AND SPIRITS / SHENANDOAH</td>\n",
       "      <td>51601</td>\n",
       "      <td>CANADIAN WHISKIES</td>\n",
       "      <td>HEAVEN HILL BRANDS</td>\n",
       "      <td>11788</td>\n",
       "      <td>BLACK VELVET</td>\n",
       "      <td>1750</td>\n",
       "      <td>11.50</td>\n",
       "      <td>17.25</td>\n",
       "      <td>12</td>\n",
       "      <td>207.00</td>\n",
       "      <td>5.75</td>\n",
       "    </tr>\n",
       "    <tr>\n",
       "      <th>159808</th>\n",
       "      <td>INV-60955100010</td>\n",
       "      <td>08/04/2023</td>\n",
       "      <td>6082</td>\n",
       "      <td>CASEY'S #2654 / STUART</td>\n",
       "      <td>50250</td>\n",
       "      <td>CANADIAN WHISKIES</td>\n",
       "      <td>HEAVEN HILL BRANDS</td>\n",
       "      <td>11788</td>\n",
       "      <td>BLACK VELVET</td>\n",
       "      <td>1750</td>\n",
       "      <td>11.00</td>\n",
       "      <td>16.50</td>\n",
       "      <td>6</td>\n",
       "      <td>99.00</td>\n",
       "      <td>5.50</td>\n",
       "    </tr>\n",
       "    <tr>\n",
       "      <th>159860</th>\n",
       "      <td>INV-51224100010</td>\n",
       "      <td>09/14/2022</td>\n",
       "      <td>5072</td>\n",
       "      <td>PEP STOP</td>\n",
       "      <td>52641</td>\n",
       "      <td>CANADIAN WHISKIES</td>\n",
       "      <td>HEAVEN HILL BRANDS</td>\n",
       "      <td>11776</td>\n",
       "      <td>BLACK VELVET</td>\n",
       "      <td>750</td>\n",
       "      <td>5.23</td>\n",
       "      <td>7.85</td>\n",
       "      <td>12</td>\n",
       "      <td>94.20</td>\n",
       "      <td>2.62</td>\n",
       "    </tr>\n",
       "  </tbody>\n",
       "</table>\n",
       "<p>3994 rows × 15 columns</p>\n",
       "</div>"
      ],
      "text/plain": [
       "       Invoice/Item Number        Date  Store Number  \\\n",
       "20            S28830400006  11/03/2015          4661   \n",
       "86         INV-29527800015  08/17/2020          4495   \n",
       "110           S10053200001  01/15/2013          4347   \n",
       "130        INV-23294500008  11/18/2019          4284   \n",
       "138           S15793600011  11/19/2013          4239   \n",
       "...                    ...         ...           ...   \n",
       "159648     INV-06127300001  07/17/2017          4256   \n",
       "159686     INV-13480400158  07/26/2018          2648   \n",
       "159752     INV-74731200003  09/27/2024          2607   \n",
       "159808     INV-60955100010  08/04/2023          6082   \n",
       "159860     INV-51224100010  09/14/2022          5072   \n",
       "\n",
       "                                         Store Name Zip Code  \\\n",
       "20                          QUIK TRIP #531 / GRIMES    50111   \n",
       "86      CASEY'S GENERAL STORE #3055 / GRUNDY CENTER    50638   \n",
       "110                      JEFF'S MARKET / BLUE GRASS    52726   \n",
       "130                FAREWAY STORES #559 / IOWA FALLS    50126   \n",
       "138               FAREWAY STORES #850 / SPIRIT LAKE    51360   \n",
       "...                                             ...      ...   \n",
       "159648           FAREWAY STORES #912 / SIOUX CENTER    51250   \n",
       "159686                              HY-VEE #4 / WDM    50265   \n",
       "159752         HY-VEE WINE AND SPIRITS / SHENANDOAH    51601   \n",
       "159808                       CASEY'S #2654 / STUART    50250   \n",
       "159860                                     PEP STOP    52641   \n",
       "\n",
       "            Category Name                       Vendor Name  Item Number  \\\n",
       "20      CANADIAN WHISKIES  CONSTELLATION WINE COMPANY, INC.        11776   \n",
       "86      CANADIAN WHISKIES                HEAVEN HILL BRANDS        11774   \n",
       "110     CANADIAN WHISKIES  CONSTELLATION WINE COMPANY, INC.        11788   \n",
       "130     CANADIAN WHISKIES                HEAVEN HILL BRANDS        11788   \n",
       "138     CANADIAN WHISKIES  CONSTELLATION WINE COMPANY, INC.        11776   \n",
       "...                   ...                               ...          ...   \n",
       "159648  CANADIAN WHISKIES          CONSTELLATION BRANDS INC        11788   \n",
       "159686  CANADIAN WHISKIES          CONSTELLATION BRANDS INC        11788   \n",
       "159752  CANADIAN WHISKIES                HEAVEN HILL BRANDS        11788   \n",
       "159808  CANADIAN WHISKIES                HEAVEN HILL BRANDS        11788   \n",
       "159860  CANADIAN WHISKIES                HEAVEN HILL BRANDS        11776   \n",
       "\n",
       "       Item Description  Bottle Volume (ml)  State Bottle Cost  \\\n",
       "20         BLACK VELVET                 750               5.23   \n",
       "86         BLACK VELVET                 375               3.07   \n",
       "110        BLACK VELVET                1750              10.45   \n",
       "130        BLACK VELVET                1750              10.45   \n",
       "138        BLACK VELVET                 750               4.83   \n",
       "...                 ...                 ...                ...   \n",
       "159648     BLACK VELVET                1750              10.45   \n",
       "159686     BLACK VELVET                1750              10.45   \n",
       "159752     BLACK VELVET                1750              11.50   \n",
       "159808     BLACK VELVET                1750              11.00   \n",
       "159860     BLACK VELVET                 750               5.23   \n",
       "\n",
       "        State Bottle Retail  Bottles Sold  Sale (Dollars)  Sales Diff  \n",
       "20                     7.85            12           94.20        2.62  \n",
       "86                     4.61             6           27.66        1.54  \n",
       "110                   15.67             6           94.02        5.22  \n",
       "130                   15.68            30          470.40        5.23  \n",
       "138                    7.44            12           89.28        2.61  \n",
       "...                     ...           ...             ...         ...  \n",
       "159648                15.68           552         8655.36        5.23  \n",
       "159686                15.68            30          470.40        5.23  \n",
       "159752                17.25            12          207.00        5.75  \n",
       "159808                16.50             6           99.00        5.50  \n",
       "159860                 7.85            12           94.20        2.62  \n",
       "\n",
       "[3994 rows x 15 columns]"
      ]
     },
     "execution_count": 6,
     "metadata": {},
     "output_type": "execute_result"
    }
   ],
   "source": [
    "iowa[iowa['Item Description'] == 'BLACK VELVET']"
   ]
  },
  {
   "cell_type": "code",
   "execution_count": 7,
   "id": "62af2302",
   "metadata": {},
   "outputs": [
    {
     "data": {
      "text/plain": [
       "Item Description    5401\n",
       "Item Number         5621\n",
       "dtype: int64"
      ]
     },
     "execution_count": 7,
     "metadata": {},
     "output_type": "execute_result"
    }
   ],
   "source": [
    "iowa[[\"Item Description\", \"Item Number\"]].nunique()"
   ]
  },
  {
   "cell_type": "code",
   "execution_count": 8,
   "id": "aec31961",
   "metadata": {},
   "outputs": [
    {
     "data": {
      "text/plain": [
       "Item Description\n",
       "BLACK VELVET                          3994\n",
       "HAWKEYE VODKA                         3460\n",
       "TITOS HANDMADE VODKA                  2648\n",
       "FIREBALL CINNAMON WHISKEY             2500\n",
       "FIVE O'CLOCK VODKA                    2013\n",
       "                                      ... \n",
       "HENDRICKS W/CUCUMBER CURLER              1\n",
       "DON JULIO 3X375ML                        1\n",
       "HA ELIJAH CRAIG 18YR SINGLE BARREL       1\n",
       "PRICHARDS PRALINE CREAM LIQUEUR          1\n",
       "THREE OLIVES PURPLE VODKA                1\n",
       "Name: count, Length: 5401, dtype: int64"
      ]
     },
     "execution_count": 8,
     "metadata": {},
     "output_type": "execute_result"
    }
   ],
   "source": [
    "iowa['Item Description'].value_counts()"
   ]
  },
  {
   "cell_type": "markdown",
   "id": "c0cafd49",
   "metadata": {},
   "source": [
    "please note in the code below I tried to fix find a list of how much each bottle's revenue was by using bottles retail - cost and plotting the result by grouping by the item number (as it is the \"best\" -in my opinion - data with refertiality (im trying to treat it as a key))"
   ]
  },
  {
   "cell_type": "code",
   "execution_count": 9,
   "id": "f2407f9d",
   "metadata": {},
   "outputs": [
    {
     "data": {
      "text/html": [
       "<div>\n",
       "<style scoped>\n",
       "    .dataframe tbody tr th:only-of-type {\n",
       "        vertical-align: middle;\n",
       "    }\n",
       "\n",
       "    .dataframe tbody tr th {\n",
       "        vertical-align: top;\n",
       "    }\n",
       "\n",
       "    .dataframe thead th {\n",
       "        text-align: right;\n",
       "    }\n",
       "</style>\n",
       "<table border=\"1\" class=\"dataframe\">\n",
       "  <thead>\n",
       "    <tr style=\"text-align: right;\">\n",
       "      <th></th>\n",
       "      <th>Invoice/Item Number</th>\n",
       "      <th>Date</th>\n",
       "      <th>Store Number</th>\n",
       "      <th>Store Name</th>\n",
       "      <th>Zip Code</th>\n",
       "      <th>Category Name</th>\n",
       "      <th>Vendor Name</th>\n",
       "      <th>Item Description</th>\n",
       "      <th>Bottle Volume (ml)</th>\n",
       "      <th>State Bottle Cost</th>\n",
       "      <th>State Bottle Retail</th>\n",
       "      <th>Bottles Sold</th>\n",
       "      <th>Sale (Dollars)</th>\n",
       "      <th>Sales Diff</th>\n",
       "    </tr>\n",
       "    <tr>\n",
       "      <th>Item Number</th>\n",
       "      <th></th>\n",
       "      <th></th>\n",
       "      <th></th>\n",
       "      <th></th>\n",
       "      <th></th>\n",
       "      <th></th>\n",
       "      <th></th>\n",
       "      <th></th>\n",
       "      <th></th>\n",
       "      <th></th>\n",
       "      <th></th>\n",
       "      <th></th>\n",
       "      <th></th>\n",
       "      <th></th>\n",
       "    </tr>\n",
       "  </thead>\n",
       "  <tbody>\n",
       "    <tr>\n",
       "      <th>64858</th>\n",
       "      <td>INV-22153600014S24943800005INV-36693600001INV-...</td>\n",
       "      <td>09/26/201904/07/201505/17/202107/13/202111/16/...</td>\n",
       "      <td>4379716</td>\n",
       "      <td>KUM &amp; GO #227 / AMESKWIK SHOP #527 / COUNCIL B...</td>\n",
       "      <td>5001051501504755011250266523275026650323503235...</td>\n",
       "      <td>WHISKEY LIQUEURWHISKEY LIQUEURWHISKEY LIQUEURW...</td>\n",
       "      <td>SAZERAC COMPANY  INCSAZERAC CO., INC.SAZERAC C...</td>\n",
       "      <td>FIREBALL CINNAMON WHISKEY MINI DISPENSERFIREBA...</td>\n",
       "      <td>1423200</td>\n",
       "      <td>27546.84</td>\n",
       "      <td>41320.26</td>\n",
       "      <td>2537</td>\n",
       "      <td>108513.90</td>\n",
       "      <td>13773.42</td>\n",
       "    </tr>\n",
       "    <tr>\n",
       "      <th>11788</th>\n",
       "      <td>S10053200001INV-23294500008INV-27039800022INV-...</td>\n",
       "      <td>01/15/201311/18/201905/05/202009/17/202101/17/...</td>\n",
       "      <td>6859402</td>\n",
       "      <td>JEFF'S MARKET / BLUE GRASSFAREWAY STORES #559 ...</td>\n",
       "      <td>5272650126506135205250325512475015851360526415...</td>\n",
       "      <td>CANADIAN WHISKIESCANADIAN WHISKIESCANADIAN WHI...</td>\n",
       "      <td>CONSTELLATION WINE COMPANY, INC.HEAVEN HILL BR...</td>\n",
       "      <td>BLACK VELVETBLACK VELVETBLACK VELVETBLACK VELV...</td>\n",
       "      <td>2731750</td>\n",
       "      <td>16390.30</td>\n",
       "      <td>24673.70</td>\n",
       "      <td>35970</td>\n",
       "      <td>563812.80</td>\n",
       "      <td>8283.40</td>\n",
       "    </tr>\n",
       "    <tr>\n",
       "      <th>38178</th>\n",
       "      <td>INV-77359200008INV-12179900155INV-24536900012I...</td>\n",
       "      <td>12/09/202405/21/201801/14/202011/15/202104/05/...</td>\n",
       "      <td>3445711</td>\n",
       "      <td>BROTHERS MARKET  /  GRUNDY CENTERLUCKY MARTFAM...</td>\n",
       "      <td>5063850112528045234050265507025235352246525655...</td>\n",
       "      <td>AMERICAN VODKASAMERICAN VODKASAMERICAN VODKASA...</td>\n",
       "      <td>FIFTH GENERATION INCFIFTH GENERATION INCFIFTH ...</td>\n",
       "      <td>TITOS HANDMADE VODKATITOS HANDMADE VODKATITOS ...</td>\n",
       "      <td>1363250</td>\n",
       "      <td>14772.15</td>\n",
       "      <td>22158.25</td>\n",
       "      <td>15954</td>\n",
       "      <td>452920.03</td>\n",
       "      <td>7386.10</td>\n",
       "    </tr>\n",
       "    <tr>\n",
       "      <th>88296</th>\n",
       "      <td>INV-75565500008S04411200010INV-81837400034INV-...</td>\n",
       "      <td>10/21/202403/07/201204/22/202510/14/202106/13/...</td>\n",
       "      <td>1865750</td>\n",
       "      <td>HY-VEE WINE &amp; SPIRITS / MUSCATINEKUM &amp; GO #713...</td>\n",
       "      <td>5276152601502735042852057503145040150322520015...</td>\n",
       "      <td>100% AGAVE TEQUILATEQUILA100% AGAVE TEQUILA100...</td>\n",
       "      <td>BACARDI USA INCTHE PATRON SPIRITS COMPANYBACAR...</td>\n",
       "      <td>PATRON SILVERPATRON TEQUILA SILVERPATRON SILVE...</td>\n",
       "      <td>340500</td>\n",
       "      <td>12416.74</td>\n",
       "      <td>18625.34</td>\n",
       "      <td>5981</td>\n",
       "      <td>245889.66</td>\n",
       "      <td>6208.60</td>\n",
       "    </tr>\n",
       "    <tr>\n",
       "      <th>11298</th>\n",
       "      <td>S12044900009INV-58315200003INV-32125400006S207...</td>\n",
       "      <td>05/06/201305/10/202311/20/202008/20/201403/12/...</td>\n",
       "      <td>1298435</td>\n",
       "      <td>WAL-MART 1435 / CRESTONWAL-MART 1393 / OSKALOO...</td>\n",
       "      <td>5080152577500225250152501515015260152342525375...</td>\n",
       "      <td>CANADIAN WHISKIESCANADIAN WHISKIESCANADIAN WHI...</td>\n",
       "      <td>DIAGEO AMERICASDIAGEO AMERICASDIAGEO AMERICASD...</td>\n",
       "      <td>CROWN ROYAL CANADIAN WHISKYCROWN ROYALCROWN RO...</td>\n",
       "      <td>581000</td>\n",
       "      <td>10790.73</td>\n",
       "      <td>16186.93</td>\n",
       "      <td>2501</td>\n",
       "      <td>122340.49</td>\n",
       "      <td>5396.20</td>\n",
       "    </tr>\n",
       "    <tr>\n",
       "      <th>...</th>\n",
       "      <td>...</td>\n",
       "      <td>...</td>\n",
       "      <td>...</td>\n",
       "      <td>...</td>\n",
       "      <td>...</td>\n",
       "      <td>...</td>\n",
       "      <td>...</td>\n",
       "      <td>...</td>\n",
       "      <td>...</td>\n",
       "      <td>...</td>\n",
       "      <td>...</td>\n",
       "      <td>...</td>\n",
       "      <td>...</td>\n",
       "      <td>...</td>\n",
       "    </tr>\n",
       "    <tr>\n",
       "      <th>36973</th>\n",
       "      <td>S26413100007</td>\n",
       "      <td>06/25/2015</td>\n",
       "      <td>4638</td>\n",
       "      <td>GD XPRESS / DAVENPORT</td>\n",
       "      <td>52804</td>\n",
       "      <td>VODKA 80 PROOF</td>\n",
       "      <td>SAZERAC CO., INC.</td>\n",
       "      <td>NIKOLAI VODKA</td>\n",
       "      <td>200</td>\n",
       "      <td>1.13</td>\n",
       "      <td>1.70</td>\n",
       "      <td>48</td>\n",
       "      <td>81.60</td>\n",
       "      <td>0.57</td>\n",
       "    </tr>\n",
       "    <tr>\n",
       "      <th>902407</th>\n",
       "      <td>S10103200001</td>\n",
       "      <td>01/17/2013</td>\n",
       "      <td>4612</td>\n",
       "      <td>ATC LIQUOR</td>\n",
       "      <td>52802</td>\n",
       "      <td>AMERICAN GRAPE BRANDIES</td>\n",
       "      <td>E AND J GALLO WINERY</td>\n",
       "      <td>E &amp; J VSOP</td>\n",
       "      <td>100</td>\n",
       "      <td>0.99</td>\n",
       "      <td>1.49</td>\n",
       "      <td>48</td>\n",
       "      <td>71.52</td>\n",
       "      <td>0.50</td>\n",
       "    </tr>\n",
       "    <tr>\n",
       "      <th>40591</th>\n",
       "      <td>INV-24258200013</td>\n",
       "      <td>12/30/2019</td>\n",
       "      <td>3715</td>\n",
       "      <td>KIMBERLY MART / DAVENPORT</td>\n",
       "      <td>52807</td>\n",
       "      <td>AMERICAN FLAVORED VODKA</td>\n",
       "      <td>E &amp; J GALLO WINERY</td>\n",
       "      <td>NEW AMSTERDAM PEACH</td>\n",
       "      <td>100</td>\n",
       "      <td>1.00</td>\n",
       "      <td>1.50</td>\n",
       "      <td>48</td>\n",
       "      <td>72.00</td>\n",
       "      <td>0.50</td>\n",
       "    </tr>\n",
       "    <tr>\n",
       "      <th>29282</th>\n",
       "      <td>S26776400006</td>\n",
       "      <td>07/15/2015</td>\n",
       "      <td>3855</td>\n",
       "      <td>DYNO'S WINE AND SPIRITS / STORM LAKE</td>\n",
       "      <td>50588</td>\n",
       "      <td>AMERICAN DRY GINS</td>\n",
       "      <td>SAZERAC NORTH AMERICA</td>\n",
       "      <td>BARTON GIN</td>\n",
       "      <td>100</td>\n",
       "      <td>0.89</td>\n",
       "      <td>1.34</td>\n",
       "      <td>48</td>\n",
       "      <td>64.32</td>\n",
       "      <td>0.45</td>\n",
       "    </tr>\n",
       "    <tr>\n",
       "      <th>12409</th>\n",
       "      <td>INV-13296500001</td>\n",
       "      <td>07/18/2018</td>\n",
       "      <td>5080</td>\n",
       "      <td>C'S LIQUOR STORE</td>\n",
       "      <td>51301</td>\n",
       "      <td>CANADIAN WHISKIES</td>\n",
       "      <td>SAZERAC NORTH AMERICA</td>\n",
       "      <td>CANADIAN LTD</td>\n",
       "      <td>100</td>\n",
       "      <td>0.89</td>\n",
       "      <td>1.34</td>\n",
       "      <td>48</td>\n",
       "      <td>64.32</td>\n",
       "      <td>0.45</td>\n",
       "    </tr>\n",
       "  </tbody>\n",
       "</table>\n",
       "<p>5621 rows × 14 columns</p>\n",
       "</div>"
      ],
      "text/plain": [
       "                                           Invoice/Item Number  \\\n",
       "Item Number                                                      \n",
       "64858        INV-22153600014S24943800005INV-36693600001INV-...   \n",
       "11788        S10053200001INV-23294500008INV-27039800022INV-...   \n",
       "38178        INV-77359200008INV-12179900155INV-24536900012I...   \n",
       "88296        INV-75565500008S04411200010INV-81837400034INV-...   \n",
       "11298        S12044900009INV-58315200003INV-32125400006S207...   \n",
       "...                                                        ...   \n",
       "36973                                             S26413100007   \n",
       "902407                                            S10103200001   \n",
       "40591                                          INV-24258200013   \n",
       "29282                                             S26776400006   \n",
       "12409                                          INV-13296500001   \n",
       "\n",
       "                                                          Date  Store Number  \\\n",
       "Item Number                                                                    \n",
       "64858        09/26/201904/07/201505/17/202107/13/202111/16/...       4379716   \n",
       "11788        01/15/201311/18/201905/05/202009/17/202101/17/...       6859402   \n",
       "38178        12/09/202405/21/201801/14/202011/15/202104/05/...       3445711   \n",
       "88296        10/21/202403/07/201204/22/202510/14/202106/13/...       1865750   \n",
       "11298        05/06/201305/10/202311/20/202008/20/201403/12/...       1298435   \n",
       "...                                                        ...           ...   \n",
       "36973                                               06/25/2015          4638   \n",
       "902407                                              01/17/2013          4612   \n",
       "40591                                               12/30/2019          3715   \n",
       "29282                                               07/15/2015          3855   \n",
       "12409                                               07/18/2018          5080   \n",
       "\n",
       "                                                    Store Name  \\\n",
       "Item Number                                                      \n",
       "64858        KUM & GO #227 / AMESKWIK SHOP #527 / COUNCIL B...   \n",
       "11788        JEFF'S MARKET / BLUE GRASSFAREWAY STORES #559 ...   \n",
       "38178        BROTHERS MARKET  /  GRUNDY CENTERLUCKY MARTFAM...   \n",
       "88296        HY-VEE WINE & SPIRITS / MUSCATINEKUM & GO #713...   \n",
       "11298        WAL-MART 1435 / CRESTONWAL-MART 1393 / OSKALOO...   \n",
       "...                                                        ...   \n",
       "36973                                    GD XPRESS / DAVENPORT   \n",
       "902407                                              ATC LIQUOR   \n",
       "40591                                KIMBERLY MART / DAVENPORT   \n",
       "29282                     DYNO'S WINE AND SPIRITS / STORM LAKE   \n",
       "12409                                         C'S LIQUOR STORE   \n",
       "\n",
       "                                                      Zip Code  \\\n",
       "Item Number                                                      \n",
       "64858        5001051501504755011250266523275026650323503235...   \n",
       "11788        5272650126506135205250325512475015851360526415...   \n",
       "38178        5063850112528045234050265507025235352246525655...   \n",
       "88296        5276152601502735042852057503145040150322520015...   \n",
       "11298        5080152577500225250152501515015260152342525375...   \n",
       "...                                                        ...   \n",
       "36973                                                    52804   \n",
       "902407                                                   52802   \n",
       "40591                                                    52807   \n",
       "29282                                                    50588   \n",
       "12409                                                    51301   \n",
       "\n",
       "                                                 Category Name  \\\n",
       "Item Number                                                      \n",
       "64858        WHISKEY LIQUEURWHISKEY LIQUEURWHISKEY LIQUEURW...   \n",
       "11788        CANADIAN WHISKIESCANADIAN WHISKIESCANADIAN WHI...   \n",
       "38178        AMERICAN VODKASAMERICAN VODKASAMERICAN VODKASA...   \n",
       "88296        100% AGAVE TEQUILATEQUILA100% AGAVE TEQUILA100...   \n",
       "11298        CANADIAN WHISKIESCANADIAN WHISKIESCANADIAN WHI...   \n",
       "...                                                        ...   \n",
       "36973                                           VODKA 80 PROOF   \n",
       "902407                                 AMERICAN GRAPE BRANDIES   \n",
       "40591                                  AMERICAN FLAVORED VODKA   \n",
       "29282                                        AMERICAN DRY GINS   \n",
       "12409                                        CANADIAN WHISKIES   \n",
       "\n",
       "                                                   Vendor Name  \\\n",
       "Item Number                                                      \n",
       "64858        SAZERAC COMPANY  INCSAZERAC CO., INC.SAZERAC C...   \n",
       "11788        CONSTELLATION WINE COMPANY, INC.HEAVEN HILL BR...   \n",
       "38178        FIFTH GENERATION INCFIFTH GENERATION INCFIFTH ...   \n",
       "88296        BACARDI USA INCTHE PATRON SPIRITS COMPANYBACAR...   \n",
       "11298        DIAGEO AMERICASDIAGEO AMERICASDIAGEO AMERICASD...   \n",
       "...                                                        ...   \n",
       "36973                                        SAZERAC CO., INC.   \n",
       "902407                                    E AND J GALLO WINERY   \n",
       "40591                                       E & J GALLO WINERY   \n",
       "29282                                    SAZERAC NORTH AMERICA   \n",
       "12409                                    SAZERAC NORTH AMERICA   \n",
       "\n",
       "                                              Item Description  \\\n",
       "Item Number                                                      \n",
       "64858        FIREBALL CINNAMON WHISKEY MINI DISPENSERFIREBA...   \n",
       "11788        BLACK VELVETBLACK VELVETBLACK VELVETBLACK VELV...   \n",
       "38178        TITOS HANDMADE VODKATITOS HANDMADE VODKATITOS ...   \n",
       "88296        PATRON SILVERPATRON TEQUILA SILVERPATRON SILVE...   \n",
       "11298        CROWN ROYAL CANADIAN WHISKYCROWN ROYALCROWN RO...   \n",
       "...                                                        ...   \n",
       "36973                                            NIKOLAI VODKA   \n",
       "902407                                              E & J VSOP   \n",
       "40591                                      NEW AMSTERDAM PEACH   \n",
       "29282                                               BARTON GIN   \n",
       "12409                                             CANADIAN LTD   \n",
       "\n",
       "             Bottle Volume (ml)  State Bottle Cost  State Bottle Retail  \\\n",
       "Item Number                                                               \n",
       "64858                   1423200           27546.84             41320.26   \n",
       "11788                   2731750           16390.30             24673.70   \n",
       "38178                   1363250           14772.15             22158.25   \n",
       "88296                    340500           12416.74             18625.34   \n",
       "11298                    581000           10790.73             16186.93   \n",
       "...                         ...                ...                  ...   \n",
       "36973                       200               1.13                 1.70   \n",
       "902407                      100               0.99                 1.49   \n",
       "40591                       100               1.00                 1.50   \n",
       "29282                       100               0.89                 1.34   \n",
       "12409                       100               0.89                 1.34   \n",
       "\n",
       "             Bottles Sold  Sale (Dollars)  Sales Diff  \n",
       "Item Number                                            \n",
       "64858                2537       108513.90    13773.42  \n",
       "11788               35970       563812.80     8283.40  \n",
       "38178               15954       452920.03     7386.10  \n",
       "88296                5981       245889.66     6208.60  \n",
       "11298                2501       122340.49     5396.20  \n",
       "...                   ...             ...         ...  \n",
       "36973                  48           81.60        0.57  \n",
       "902407                 48           71.52        0.50  \n",
       "40591                  48           72.00        0.50  \n",
       "29282                  48           64.32        0.45  \n",
       "12409                  48           64.32        0.45  \n",
       "\n",
       "[5621 rows x 14 columns]"
      ]
     },
     "execution_count": 9,
     "metadata": {},
     "output_type": "execute_result"
    }
   ],
   "source": [
    "sales = iowa.groupby(\"Item Number\").sum()\n",
    "sales = sales.sort_values(by='Sales Diff',ascending=False)\n",
    "sales"
   ]
  },
  {
   "cell_type": "code",
   "execution_count": null,
   "id": "f5502808",
   "metadata": {},
   "outputs": [
    {
     "ename": "SyntaxError",
     "evalue": "positional argument follows keyword argument (3995958537.py, line 7)",
     "output_type": "error",
     "traceback": [
      "  \u001b[36mCell\u001b[39m\u001b[36m \u001b[39m\u001b[32mIn[51]\u001b[39m\u001b[32m, line 7\u001b[39m\n\u001b[31m    \u001b[39m\u001b[31msns.barplot( x = \"Item Number\", y = \"Sales Diff\", sales_df)\u001b[39m\n                                                              ^\n\u001b[31mSyntaxError\u001b[39m\u001b[31m:\u001b[39m positional argument follows keyword argument\n"
     ]
    }
   ],
   "source": [
    "sales_by_diff = iowa.groupby(\"Item Number\")[\"Sales Diff\"].mean()\n",
    "top_sales = sales[:20]\n",
    "sales_by_diff \n",
    "sales_df = sales_by_diff.reset_index()\n",
    "sales_df\n",
    "#make barplot of sales by diff\n",
    "# ns.barplot(sales_df, x = \"Item Number\", y = \"Sales Diff\", orient=\"h\")\n",
    "#plt.show()"
   ]
  },
  {
   "cell_type": "code",
   "execution_count": null,
   "id": "867e56fb",
   "metadata": {},
   "outputs": [
    {
     "data": {
      "text/plain": [
       "Text(0, 0.5, 'Item Number')"
      ]
     },
     "execution_count": 61,
     "metadata": {},
     "output_type": "execute_result"
    },
    {
     "data": {
      "image/png": "[encoded data removed]",
      "text/plain": [
       "<Figure size 640x480 with 1 Axes>"
      ]
     },
     "metadata": {},
     "output_type": "display_data"
    }
   ],
   "source": [
    "#this code is modified from the class example\n",
    "sales = (iowa.loc[:,['Sales Diff','Item Number']] \n",
    "         .groupby('Item Number')\n",
    "         .mean() #hypotherically i shouldnt have to take the mean but my code above was giving me an error so here we are\n",
    "         .sort_values(by='Sales Diff',ascending=False) )\n",
    "top_sales = sales[:20]\n",
    "sns.barplot(top_sales['Sales Diff'], orient='h')#, order=top_sales.sort_values('Item Number').index) ##WHWYYY CANT I GET THIS TO ORDER\n",
    "plt.title(\"top 20 most profit per item in Iowa liquor sales\")"
   ]
  },
  {
   "cell_type": "code",
   "execution_count": null,
   "id": "8ccca029",
   "metadata": {},
   "outputs": [
    {
     "data": {
      "text/html": [
       "<div>\n",
       "<style scoped>\n",
       "    .dataframe tbody tr th:only-of-type {\n",
       "        vertical-align: middle;\n",
       "    }\n",
       "\n",
       "    .dataframe tbody tr th {\n",
       "        vertical-align: top;\n",
       "    }\n",
       "\n",
       "    .dataframe thead th {\n",
       "        text-align: right;\n",
       "    }\n",
       "</style>\n",
       "<table border=\"1\" class=\"dataframe\">\n",
       "  <thead>\n",
       "    <tr style=\"text-align: right;\">\n",
       "      <th></th>\n",
       "      <th>Invoice/Item Number</th>\n",
       "      <th>Date</th>\n",
       "      <th>Store Number</th>\n",
       "      <th>Store Name</th>\n",
       "      <th>Zip Code</th>\n",
       "      <th>Category Name</th>\n",
       "      <th>Vendor Name</th>\n",
       "      <th>Item Number</th>\n",
       "      <th>Item Description</th>\n",
       "      <th>Bottle Volume (ml)</th>\n",
       "      <th>State Bottle Cost</th>\n",
       "      <th>State Bottle Retail</th>\n",
       "      <th>Bottles Sold</th>\n",
       "      <th>Sale (Dollars)</th>\n",
       "      <th>Sales Diff</th>\n",
       "    </tr>\n",
       "  </thead>\n",
       "  <tbody>\n",
       "    <tr>\n",
       "      <th>73537</th>\n",
       "      <td>INV-70066800001</td>\n",
       "      <td>05/10/2024</td>\n",
       "      <td>5916</td>\n",
       "      <td>ANOTHER ROUND / DEWITT</td>\n",
       "      <td>52742</td>\n",
       "      <td>IMPORTED BRANDIES</td>\n",
       "      <td>REMY COINTREAU USA INC</td>\n",
       "      <td>48725</td>\n",
       "      <td>REMY MARTIN LOUIS XIII</td>\n",
       "      <td>750</td>\n",
       "      <td>2298.84</td>\n",
       "      <td>3448.26</td>\n",
       "      <td>1</td>\n",
       "      <td>3448.26</td>\n",
       "      <td>1149.42</td>\n",
       "    </tr>\n",
       "  </tbody>\n",
       "</table>\n",
       "</div>"
      ],
      "text/plain": [
       "      Invoice/Item Number        Date  Store Number              Store Name  \\\n",
       "73537     INV-70066800001  05/10/2024          5916  ANOTHER ROUND / DEWITT   \n",
       "\n",
       "      Zip Code      Category Name             Vendor Name  Item Number  \\\n",
       "73537    52742  IMPORTED BRANDIES  REMY COINTREAU USA INC        48725   \n",
       "\n",
       "             Item Description  Bottle Volume (ml)  State Bottle Cost  \\\n",
       "73537  REMY MARTIN LOUIS XIII                 750            2298.84   \n",
       "\n",
       "       State Bottle Retail  Bottles Sold  Sale (Dollars)  Sales Diff  \n",
       "73537              3448.26             1         3448.26     1149.42  "
      ]
     },
     "execution_count": 68,
     "metadata": {},
     "output_type": "execute_result"
    }
   ],
   "source": [
    "iowa[iowa[\"Item Number\" ] == 48725] #most profit per sale - not necessarily most popular bottle ;)\n",
    "#not best way of showing this but it works for what I am trying to do."
   ]
  },
  {
   "cell_type": "markdown",
   "id": "63593bde",
   "metadata": {},
   "source": [
    "2. This question is to further explore broadcasting in NumPy.\n",
    "\n",
    "- In the first code chunk below, there are two vectors, $x$ and $y$. What happens when you try to subtract them?\n",
    "    -  The error \"ValueError: operands could not be broadcast together with shapes (3,) (2,)\" is thrown because the two arrays do not have the same shape\n",
    "- Instead, try `x.reshape(-1,1)-y.reshape(1,-1)`. What do you get?\n",
    "    - This made a 3x2 array. It subtracted x from y in each column of x.\n",
    "- Try `x.reshape(1,-1)-y.reshape(-1,1)`. Compare the results to your previous answer.\n",
    "    - This made rows of array x and subtracted the first element of y in the first and the second element to the second row. it formed a 2x3.\n",
    "- Write two double for-loops to replicate the results of the previous two answers. \n",
    "- Clearly explain how `x.reshape(1,-1)` and `x.reshape(-1,1)` change $x$\n",
    "    - .reshape make a 2d array that copies the values in the x array by the magnitude of the values specified within the parentheis. where 1 is x array x 1 and -1 is x array but making the rows columns."
   ]
  },
  {
   "cell_type": "code",
   "execution_count": 146,
   "id": "e29b3aac",
   "metadata": {},
   "outputs": [],
   "source": [
    "import numpy as np\n",
    "\n",
    "x = np.array([1,3,5])\n",
    "y = np.array([2,5])"
   ]
  },
  {
   "cell_type": "code",
   "execution_count": 71,
   "id": "da183444",
   "metadata": {},
   "outputs": [
    {
     "ename": "ValueError",
     "evalue": "operands could not be broadcast together with shapes (3,) (2,) ",
     "output_type": "error",
     "traceback": [
      "\u001b[31m---------------------------------------------------------------------------\u001b[39m",
      "\u001b[31mValueError\u001b[39m                                Traceback (most recent call last)",
      "\u001b[36mCell\u001b[39m\u001b[36m \u001b[39m\u001b[32mIn[71]\u001b[39m\u001b[32m, line 1\u001b[39m\n\u001b[32m----> \u001b[39m\u001b[32m1\u001b[39m \u001b[43mx\u001b[49m\u001b[43m-\u001b[49m\u001b[43my\u001b[49m\n",
      "\u001b[31mValueError\u001b[39m: operands could not be broadcast together with shapes (3,) (2,) "
     ]
    }
   ],
   "source": [
    "x-y"
   ]
  },
  {
   "cell_type": "code",
   "execution_count": 78,
   "id": "88aedcb0",
   "metadata": {},
   "outputs": [
    {
     "data": {
      "text/plain": [
       "array([[-1, -4],\n",
       "       [ 1, -2],\n",
       "       [ 3,  0]])"
      ]
     },
     "execution_count": 78,
     "metadata": {},
     "output_type": "execute_result"
    }
   ],
   "source": [
    "z1 = x.reshape(-1,1)-y.reshape(1,-1)\n",
    "z1"
   ]
  },
  {
   "cell_type": "code",
   "execution_count": 77,
   "id": "e94d7dc7",
   "metadata": {},
   "outputs": [
    {
     "data": {
      "text/plain": [
       "array([[-1,  1,  3],\n",
       "       [-4, -2,  0]])"
      ]
     },
     "execution_count": 77,
     "metadata": {},
     "output_type": "execute_result"
    }
   ],
   "source": [
    "z2 = x.reshape(1,-1)-y.reshape(-1,1)\n",
    "z2"
   ]
  },
  {
   "cell_type": "code",
   "execution_count": 135,
   "id": "57f0097b",
   "metadata": {},
   "outputs": [
    {
     "data": {
      "text/plain": [
       "array([[ 1,  3,  5],\n",
       "       [-1, -3, -5]])"
      ]
     },
     "execution_count": 135,
     "metadata": {},
     "output_type": "execute_result"
    }
   ],
   "source": [
    "x3 = np.array([x,-x])\n",
    "x3"
   ]
  },
  {
   "cell_type": "code",
   "execution_count": 172,
   "id": "ed8e1b79",
   "metadata": {},
   "outputs": [
    {
     "data": {
      "text/plain": [
       "(3, 2)"
      ]
     },
     "execution_count": 172,
     "metadata": {},
     "output_type": "execute_result"
    }
   ],
   "source": [
    "x3[1][0]\n",
    "x1 = (np.array([x,x])).T\n",
    "x1.shape"
   ]
  },
  {
   "cell_type": "code",
   "execution_count": 173,
   "id": "ee2fc746",
   "metadata": {},
   "outputs": [
    {
     "data": {
      "text/plain": [
       "array([[-1, -4],\n",
       "       [ 1, -2],\n",
       "       [ 3,  0]])"
      ]
     },
     "execution_count": 173,
     "metadata": {},
     "output_type": "execute_result"
    }
   ],
   "source": [
    "x1 = (np.array([x,x])).T\n",
    "for i in range(len(x)):    \n",
    "        for j in range(len(y)):\n",
    "                x1[i][j] = (x1[i][j]-y[j])     \n",
    "x1"
   ]
  },
  {
   "cell_type": "code",
   "execution_count": 155,
   "id": "334aa6cf",
   "metadata": {},
   "outputs": [
    {
     "data": {
      "text/plain": [
       "array([[-1,  1,  3],\n",
       "       [-4, -2,  0]])"
      ]
     },
     "execution_count": 155,
     "metadata": {},
     "output_type": "execute_result"
    }
   ],
   "source": [
    "x1 = np.array([x,x])\n",
    "for i in range(len(x)):    \n",
    "        for j in range(len(y)):\n",
    "                x1[j][i] = (x1[j][i]-y[j])   \n",
    "x1"
   ]
  },
  {
   "cell_type": "markdown",
   "id": "b29f1d35",
   "metadata": {},
   "source": [
    "3. The indicator function $\\mathbb{I}\\{ x \\le z \\}$ takes the value 0 if $x>z$ and 1 if $x \\le z$ is true, or\n",
    "$$\n",
    "\\mathbb{I}\\{x \\le z\\} = \\begin{cases}\n",
    "0, &x > z \\\\\n",
    "1, &x \\le z\n",
    "\\end{cases}\n",
    "$$\n",
    "\n",
    "- For $x = 3$, plot the indicator function for any $z$\n",
    "- Explain how $ 1- \\mathbb{I}\\{ x \\le z \\} = \\mathbb{I}\\{ x > z \\}$. Drawing a plot might help, or looking at the definition given above.\n",
    "- The code below generates a random sample for different numbers of observations, $N = 3, 30, 300, 3000 $. Write a function to compute the ECDF curve for each sample, and plot your results.\n",
    "- Describe in your own words what happens to the ECDF qualitatively as the sample size $N$ increases"
   ]
  },
  {
   "cell_type": "code",
   "execution_count": null,
   "id": "17ad7d01",
   "metadata": {},
   "outputs": [
    {
     "name": "stdout",
     "output_type": "stream",
     "text": [
      "[ 0.32557447 -0.68911772 -0.01982181  0.47475325 -1.93110142]\n",
      "[-1.93110142 -0.68911772 -0.01982181  0.32557447  0.47475325]\n",
      "(array([0.2, 0.4, 0.6, 0.8, 1. ]), array([-1.93110142, -0.68911772, -0.01982181,  0.32557447,  0.47475325]))\n"
     ]
    },
    {
     "data": {
      "image/png": "[encoded data removed]",
      "text/plain": [
       "<Figure size 640x480 with 1 Axes>"
      ]
     },
     "metadata": {},
     "output_type": "display_data"
    }
   ],
   "source": [
    "import numpy as np\n",
    "import seaborn as sns\n",
    "\n",
    "rng = np.random.default_rng(100)\n",
    "#x = 3\n",
    "\n",
    "for N in (3,30,300,3000):\n",
    "    X = rng.normal(0,1,5)\n",
    "#print(X)\n",
    "\n",
    "#ECDF plot goes her\n",
    "\n",
    "def ecdf(x, plot = True):\n",
    "    grid = np.sort(np.unique(X))\n",
    "    print(grid)\n",
    "    ecdf = np.zeros(len(grid))\n",
    "\n",
    "    for idx in range(len(grid)):\n",
    "        ecdf[idx] = (X <= grid[idx]).sum()/len(X)\n",
    "    if plot:\n",
    "        plt.plot(grid, ecdf)\n",
    "\n",
    "    return ecdf, grid\n",
    "print(ecdf(X))\n",
    "\n",
    "#Grace helped me to understand the ECDF and the code listed above."
   ]
  },
  {
   "cell_type": "code",
   "execution_count": 76,
   "id": "0969972f",
   "metadata": {},
   "outputs": [
    {
     "data": {
      "image/png": "[encoded data removed]",
      "text/plain": [
       "<Figure size 640x480 with 1 Axes>"
      ]
     },
     "metadata": {},
     "output_type": "display_data"
    },
    {
     "data": {
      "text/plain": [
       "<Axes: >"
      ]
     },
     "execution_count": 76,
     "metadata": {},
     "output_type": "execute_result"
    },
    {
     "data": {
      "image/png": "[encoded data removed]",
      "text/plain": [
       "<Figure size 640x480 with 1 Axes>"
      ]
     },
     "metadata": {},
     "output_type": "display_data"
    }
   ],
   "source": [
    "x = rng.normal(0,1,5)\n",
    "\n",
    "grid = np.linspace(x.min()-x.std(), x.max()+x.std(), 100) # Create a grid\n",
    "ecdf = 0*grid.copy() # Create a space for values\n",
    "\n",
    "def indicate(x,grid): \n",
    "    ''' Indicator function for computing ECDFs. '''\n",
    "    return x <= grid\n",
    "\n",
    "fig = sns.rugplot(x,alpha=.1)\n",
    "fig.set(title='ECDF construction')\n",
    "for i in range(len(x)):\n",
    "    F_i = indicate(x[i],grid)\n",
    "    sns.lineplot(x=grid,y=F_i)\n",
    "    ecdf += F_i\n",
    "plt.show()    \n",
    "\n",
    "ecdf = ecdf/len(x)\n",
    "sns.lineplot(x=grid, y=ecdf)"
   ]
  },
  {
   "cell_type": "markdown",
   "id": "6c8f1ebb",
   "metadata": {},
   "source": [
    "4. A **quantile** generalizes the concept of the median so that instead of 50% of the mass below and 50% above, the $q$-quantile is the value for which $q$ proportion of the data are below that value and $(1-q)$ proportion of the data are above that value. This is a concept of **order**.\n",
    "\n",
    "- Write a function that computes any quantile without using Numpy's `np.quantile`\n",
    "- Write a function that computes the **Interquartile Range (IQR)** -- the .25 quantile and the .75 quantile, which brackets 50% of the data -- and the **whiskers**: $\\pm 1.5 \\times \\text{IQR}$ from the edges of the IQR\n",
    "- Write a function that computes a five-number summary and values for a boxplot: the minimum, the .25 quantile, the median, the .75 quantile, and the maximum, and the whiskers\n",
    "- Anything outside the whiskers is an **outlier**; write a function that returns a Boolean vector indicating if the observations are outliers.\n",
    "- For a numeric variable of your choice from one of the datasets, apply your functions from above, and compare your answers with `sns.boxplot` and `df.describe`. "
   ]
  },
  {
   "cell_type": "code",
   "execution_count": 28,
   "id": "8d03b388",
   "metadata": {},
   "outputs": [
    {
     "name": "stdout",
     "output_type": "stream",
     "text": [
      " min: -2.92 \n",
      " quartile1: -0.64 \n",
      " median: 0.03 \n",
      " quartile3: 0.71 \n",
      " max: 3.57 \n",
      " lower_wisker: -2.67 \n",
      " upper_wisker: 2.74\n"
     ]
    }
   ],
   "source": [
    "#median  = np.median(X)\n",
    "#quartile1 = np.median(X[X<=median])\n",
    "#quartile3 = np.median(X[X>=median])\n",
    "#IQR = quartile3 - quartile1\n",
    "#if we dont have the median function\n",
    "def median_func(X):\n",
    "    X = np.sort(X)\n",
    "    n = len(X)\n",
    "    if n % 2 == 0:\n",
    "        median = (X[n//2 - 1] + X[n//2]) / 2\n",
    "    else:\n",
    "        median = X[n//2]\n",
    "    return median\n",
    "\n",
    "def fivenumsum(X):\n",
    "    median  = median_func(X)\n",
    "    quartile1 = median_func(X[X<=median])\n",
    "    quartile3 = median_func(X[X>=median])\n",
    "    IQR = quartile3 - quartile1\n",
    "    max = np.max(X)\n",
    "    min = np.min(X)\n",
    "    lower_wisker = quartile1 - 1.5*IQR\n",
    "    upper_wisker = quartile3 + 1.5*IQR\n",
    "    fivenumsumans = print(\" min:\", round(min, 2), \"\\n\", \"quartile1:\", round(quartile1, 2), \"\\n\", \"median:\", round(median, 2), \"\\n\", \"quartile3:\", round(quartile3, 2), \"\\n\", \"max:\", round(max,2), \"\\n\", \"lower_wisker:\", round(lower_wisker,2), \"\\n\", \"upper_wisker:\", round(upper_wisker, 2) )\n",
    "    return (fivenumsumans)\n",
    "\n",
    "fivenumsum(X)\n"
   ]
  },
  {
   "cell_type": "code",
   "execution_count": 23,
   "id": "aa857024",
   "metadata": {},
   "outputs": [
    {
     "data": {
      "text/plain": [
       "Index(['Invoice/Item Number', 'Date', 'Store Number', 'Store Name', 'Zip Code',\n",
       "       'Category Name', 'Vendor Name', 'Item Number', 'Item Description',\n",
       "       'Bottle Volume (ml)', 'State Bottle Cost', 'State Bottle Retail',\n",
       "       'Bottles Sold', 'Sale (Dollars)'],\n",
       "      dtype='object')"
      ]
     },
     "execution_count": 23,
     "metadata": {},
     "output_type": "execute_result"
    }
   ],
   "source": [
    "liquor = pd.read_csv('iowa.csv')\n",
    "liquor.head()\n",
    "liquor.columns"
   ]
  },
  {
   "cell_type": "code",
   "execution_count": 29,
   "id": "1eed1a45",
   "metadata": {},
   "outputs": [
    {
     "name": "stdout",
     "output_type": "stream",
     "text": [
      " min: 0.0 \n",
      " quartile1: 8.67 \n",
      " median: 12.99 \n",
      " quartile3: 19.82 \n",
      " max: 3448.26 \n",
      " lower_wisker: -8.06 \n",
      " upper_wisker: 36.54\n"
     ]
    },
    {
     "data": {
      "text/plain": [
       "count    159904.000000\n",
       "mean         16.480350\n",
       "std          17.099067\n",
       "min           0.000000\n",
       "25%           8.670000\n",
       "50%          12.990000\n",
       "75%          19.920000\n",
       "max        3448.260000\n",
       "Name: State Bottle Retail, dtype: float64"
      ]
     },
     "execution_count": 29,
     "metadata": {},
     "output_type": "execute_result"
    }
   ],
   "source": [
    "fivenumsum(liquor[\"State Bottle Retail\" ])\n",
    "liquor[\"State Bottle Retail\" ].describe()"
   ]
  },
  {
   "cell_type": "markdown",
   "id": "99f4c407",
   "metadata": {},
   "source": [
    "5. The kernel density estimator captures the concentration of the data around various points, and is defined as\n",
    "$$\n",
    "\\hat{f}_{N,h}(z) = \\frac{1}{N} \\sum_{i=1}^N \\frac{1}{h} k \\left( \\frac{x_i - z}{h}\\right)\n",
    "$$\n",
    "where $h$ is the bandwidth and $k()$ is one of the kernel functions from the class materials (Gaussian, Epanechnikov, uniform, triangular).\n",
    "\n",
    "- Write a function that takes the bandwidth $h$ as given, and computes and plots $\\hat{f}_{N,h}(z)$, for the kernels listed in the slides\n",
    "- Write a function that computes the plug-in bandwidth\n",
    "- Use your functions to analyze some numeric variables from a dataset of your choice, using a variety of bandwidths\n",
    "- Compare bandwidths that are greater or less than the plug-in value with the results for the plug-in value. When does the KDE appear to be overfitting? Underfitting?"
   ]
  },
  {
   "cell_type": "code",
   "execution_count": null,
   "id": "cbde88d4",
   "metadata": {},
   "outputs": [],
   "source": [
    "import matplotlib.pyplot as plt"
   ]
  },
  {
   "cell_type": "code",
   "execution_count": null,
   "id": "7984a3ff",
   "metadata": {},
   "outputs": [],
   "source": [
    "#my attempt\n",
    "def kerneldesityest(bandwidth, kernelfunc, N):\n",
    "    summation = 0\n",
    "    for i in range(len(N)):\n",
    "        mini = kernelfunc * ((N(i) - kernelfunc(i))/ bandwidth)\n",
    "        summation += mini\n",
    "    est = (1/bandwidth) * summation\n",
    "\n",
    "    return est"
   ]
  },
  {
   "cell_type": "code",
   "execution_count": 48,
   "id": "07e766bb",
   "metadata": {},
   "outputs": [
    {
     "data": {
      "text/plain": [
       "count    159904.000000\n",
       "mean         10.883336\n",
       "std          28.042635\n",
       "min         -60.000000\n",
       "25%           3.000000\n",
       "50%           6.000000\n",
       "75%          12.000000\n",
       "max        2400.000000\n",
       "Name: Bottles Sold, dtype: float64"
      ]
     },
     "execution_count": 48,
     "metadata": {},
     "output_type": "execute_result"
    }
   ],
   "source": [
    "z = liquor[\"Bottles Sold\"]\n",
    "x.describe()"
   ]
  },
  {
   "cell_type": "code",
   "execution_count": 60,
   "id": "f82fbd3f",
   "metadata": {},
   "outputs": [
    {
     "data": {
      "image/png": "[encoded data removed]",
      "text/plain": [
       "<Figure size 640x480 with 1 Axes>"
      ]
     },
     "metadata": {},
     "output_type": "display_data"
    }
   ],
   "source": [
    "#class code\n",
    "def kde(x, h): #where x is data and h is bandwidth\n",
    "    Z = np.sort(x.unique()).reshape(1,-1) # Extract unique values for x\n",
    "    data = x.to_numpy().reshape(-1,1) # Reshape the data\n",
    "    I = np.abs( data-Z ) <= h # Compute the kernel\n",
    "    kde = np.mean(I,axis=0)/(2*h) # Sum over x indices and normalize\n",
    "    grid = Z.reshape(-1,1)\n",
    "\n",
    "    # Plot KDE\n",
    "    title_str = x.name\n",
    "    plt.plot(grid,kde)\n",
    "    plt.xlim(0,50)\n",
    "    plt.title(f'Density Estimate: {title_str}')\n",
    "    plt.ylabel('Proportion')\n",
    "    plt.xlabel(title_str)\n",
    "    return kde, grid\n",
    "\n",
    "f_hat, grid = kde(x,2)"
   ]
  },
  {
   "cell_type": "code",
   "execution_count": 61,
   "id": "65dad812",
   "metadata": {},
   "outputs": [
    {
     "data": {
      "image/png": "[encoded data removed]",
      "text/plain": [
       "<Figure size 640x480 with 1 Axes>"
      ]
     },
     "metadata": {},
     "output_type": "display_data"
    }
   ],
   "source": [
    "f_hat, grid = kde(x,7)"
   ]
  },
  {
   "cell_type": "code",
   "execution_count": 62,
   "id": "f6f4e161",
   "metadata": {},
   "outputs": [
    {
     "data": {
      "image/png": "[encoded data removed]",
      "text/plain": [
       "<Figure size 640x480 with 1 Axes>"
      ]
     },
     "metadata": {},
     "output_type": "display_data"
    }
   ],
   "source": [
    "f_hat, grid = kde(x,15)"
   ]
  },
  {
   "cell_type": "code",
   "execution_count": 63,
   "id": "3dafa375",
   "metadata": {},
   "outputs": [
    {
     "data": {
      "image/png": "[encoded data removed]",
      "text/plain": [
       "<Figure size 640x480 with 1 Axes>"
      ]
     },
     "metadata": {},
     "output_type": "display_data"
    }
   ],
   "source": [
    "f_hat, grid = kde(x,30)"
   ]
  },
  {
   "cell_type": "markdown",
   "id": "0566c800",
   "metadata": {},
   "source": [
    "The kernal desnsity function overfits with a lower bandwidth and underfits with a higher bandwidth."
   ]
  }
 ],
 "metadata": {
  "kernelspec": {
   "display_name": "understanding_uncertainty",
   "language": "python",
   "name": "python3"
  },
  "language_info": {
   "codemirror_mode": {
    "name": "ipython",
    "version": 3
   },
   "file_extension": ".py",
   "mimetype": "text/x-python",
   "name": "python",
   "nbconvert_exporter": "python",
   "pygments_lexer": "ipython3",
   "version": "3.13.5"
  }
 },
 "nbformat": 4,
 "nbformat_minor": 5
}
